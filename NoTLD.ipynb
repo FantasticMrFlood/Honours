{
 "cells": [
  {
   "cell_type": "code",
   "execution_count": 2,
   "metadata": {},
   "outputs": [],
   "source": [
    "import os\n",
    "import csv\n",
    "import re\n",
    "\n",
    "\n",
    "import numpy as np \n",
    "import pandas as pd\n",
    "\n",
    "\n",
    "from numba import jit, cuda \n",
    "from sklearn.pipeline import Pipeline\n",
    "from sklearn.ensemble import RandomForestClassifier\n",
    "from sklearn.model_selection import train_test_split\n",
    "from sklearn.metrics import accuracy_score, confusion_matrix\n",
    "from sklearn.feature_extraction.text import HashingVectorizer, TfidfTransformer\n",
    "from sklearn.linear_model import LogisticRegression\n",
    "from sklearn.model_selection import train_test_split\n",
    "from sklearn.linear_model import Perceptron\n",
    "from sklearn.metrics import accuracy_score\n",
    "from sklearn.metrics import classification_report, confusion_matrix\n",
    "from sklearn.svm import SVC\n",
    "from sklearn import svm \n",
    "from sklearn import metrics"
   ]
  },
  {
   "cell_type": "code",
   "execution_count": 3,
   "metadata": {},
   "outputs": [
    {
     "data": {
      "text/html": [
       "<div>\n",
       "<style scoped>\n",
       "    .dataframe tbody tr th:only-of-type {\n",
       "        vertical-align: middle;\n",
       "    }\n",
       "\n",
       "    .dataframe tbody tr th {\n",
       "        vertical-align: top;\n",
       "    }\n",
       "\n",
       "    .dataframe thead th {\n",
       "        text-align: right;\n",
       "    }\n",
       "</style>\n",
       "<table border=\"1\" class=\"dataframe\">\n",
       "  <thead>\n",
       "    <tr style=\"text-align: right;\">\n",
       "      <th></th>\n",
       "      <th>Name</th>\n",
       "      <th>Any Name Present</th>\n",
       "      <th>All Names Present</th>\n",
       "      <th>No Sender</th>\n",
       "      <th>Spam</th>\n",
       "    </tr>\n",
       "  </thead>\n",
       "  <tbody>\n",
       "    <tr>\n",
       "      <th>0</th>\n",
       "      <td>inmail.1</td>\n",
       "      <td>0</td>\n",
       "      <td>0</td>\n",
       "      <td>0</td>\n",
       "      <td>1</td>\n",
       "    </tr>\n",
       "    <tr>\n",
       "      <th>1</th>\n",
       "      <td>inmail.10</td>\n",
       "      <td>0</td>\n",
       "      <td>0</td>\n",
       "      <td>0</td>\n",
       "      <td>0</td>\n",
       "    </tr>\n",
       "    <tr>\n",
       "      <th>2</th>\n",
       "      <td>inmail.100</td>\n",
       "      <td>0</td>\n",
       "      <td>0</td>\n",
       "      <td>0</td>\n",
       "      <td>1</td>\n",
       "    </tr>\n",
       "    <tr>\n",
       "      <th>3</th>\n",
       "      <td>inmail.1000</td>\n",
       "      <td>1</td>\n",
       "      <td>0</td>\n",
       "      <td>0</td>\n",
       "      <td>0</td>\n",
       "    </tr>\n",
       "    <tr>\n",
       "      <th>4</th>\n",
       "      <td>inmail.10000</td>\n",
       "      <td>0</td>\n",
       "      <td>0</td>\n",
       "      <td>0</td>\n",
       "      <td>1</td>\n",
       "    </tr>\n",
       "  </tbody>\n",
       "</table>\n",
       "</div>"
      ],
      "text/plain": [
       "           Name  Any Name Present  All Names Present  No Sender  Spam\n",
       "0      inmail.1                 0                  0          0     1\n",
       "1     inmail.10                 0                  0          0     0\n",
       "2    inmail.100                 0                  0          0     1\n",
       "3   inmail.1000                 1                  0          0     0\n",
       "4  inmail.10000                 0                  0          0     1"
      ]
     },
     "execution_count": 3,
     "metadata": {},
     "output_type": "execute_result"
    }
   ],
   "source": [
    "address = 'C:/Users/Aidan/OneDrive/Desktop/Hons/honsTestNoTLD.csv'\n",
    "\n",
    "emails = pd.read_csv(address)\n",
    "\n",
    "emails.columns = ['Name','Any Name Present','All Names Present','No Sender','Spam']\n",
    "\n",
    "emails.head()"
   ]
  },
  {
   "cell_type": "code",
   "execution_count": 4,
   "metadata": {},
   "outputs": [],
   "source": [
    "y = emails.iloc[:,4].values\n",
    "x = emails.iloc[:,[1,2,3]]"
   ]
  },
  {
   "cell_type": "code",
   "execution_count": 5,
   "metadata": {},
   "outputs": [],
   "source": [
    "x_train, x_test, y_train, y_test = train_test_split(x, y, test_size=0.3,random_state=10)"
   ]
  },
  {
   "cell_type": "code",
   "execution_count": 6,
   "metadata": {},
   "outputs": [
    {
     "name": "stdout",
     "output_type": "stream",
     "text": [
      "SVM\n",
      "Accuracy:  0.7970476443030142\n",
      "Precision:  0.8623428650366073\n",
      "Recall:  0.8276982232829488\n",
      "[[ 5549  1993]\n",
      " [ 2599 12485]]\n",
      "              precision    recall  f1-score   support\n",
      "\n",
      "           0       0.68      0.74      0.71      7542\n",
      "           1       0.86      0.83      0.84     15084\n",
      "\n",
      "    accuracy                           0.80     22626\n",
      "   macro avg       0.77      0.78      0.78     22626\n",
      "weighted avg       0.80      0.80      0.80     22626\n",
      "\n"
     ]
    }
   ],
   "source": [
    "#SVM ML Model\n",
    "classifierSVM = svm.SVC(kernel='linear') #linear kernel \n",
    "\n",
    "classifierSVM.fit(x_train, y_train) #train the model with the appropriate training sets\n",
    "\n",
    "y_pred = classifierSVM.predict(x_test) #predict response for test dataset\n",
    "\n",
    "\n",
    "\n",
    "\n",
    "print(\"SVM\")                                                      #prints SVM to help with the formatting of the results\n",
    "print(\"Accuracy: \", metrics.accuracy_score(y_test, y_pred))       #prints the accuracy of the SVM model\n",
    "print(\"Precision: \", metrics.precision_score(y_test, y_pred))     #prints the precision of the SVM model\n",
    "print(\"Recall: \", metrics.recall_score(y_test, y_pred))           #prints the recall of the SVM model\n",
    "\n",
    "print(confusion_matrix(y_test,y_pred))                            #prints the confusion matrix\n",
    "print(classification_report(y_test,y_pred))                       #prints a table of all relevant figures"
   ]
  },
  {
   "cell_type": "code",
   "execution_count": 7,
   "metadata": {},
   "outputs": [
    {
     "name": "stdout",
     "output_type": "stream",
     "text": [
      "KNN Nearest Neighbours\n",
      "Accuracy:  0.7632811809422788\n",
      "Precision:  0.7658214012460378\n",
      "Recall:  0.9289976133651552\n",
      "[[ 3257  4285]\n",
      " [ 1071 14013]]\n",
      "              precision    recall  f1-score   support\n",
      "\n",
      "           0       0.75      0.43      0.55      7542\n",
      "           1       0.77      0.93      0.84     15084\n",
      "\n",
      "    accuracy                           0.76     22626\n",
      "   macro avg       0.76      0.68      0.69     22626\n",
      "weighted avg       0.76      0.76      0.74     22626\n",
      "\n"
     ]
    }
   ],
   "source": [
    "#KNN ML Model\n",
    "from sklearn.preprocessing import StandardScaler     \n",
    "from sklearn.neighbors import KNeighborsClassifier\n",
    "\n",
    "scaler = StandardScaler()              #KNN scaler initialised\n",
    "scaler.fit(x_train)                    \n",
    "x_train = scaler.transform(x_train)    \n",
    "x_test = scaler.transform(x_test)\n",
    "\n",
    "\n",
    "classifierKNN = KNeighborsClassifier(n_neighbors=5)     #KNN initialised\n",
    "classifierKNN.fit(x_train, y_train)                     #KNN fit with the testing data\n",
    "\n",
    "\n",
    "y_pred = classifierKNN.predict(x_test)                  #KNN method run on the testing data\n",
    "\n",
    "print(\"KNN Nearest Neighbours\")                                   #print KNN\n",
    "print(\"Accuracy: \", metrics.accuracy_score(y_test, y_pred))       #prints the accuracy of the SVM model\n",
    "print(\"Precision: \", metrics.precision_score(y_test, y_pred))     #prints the precision of the SVM model\n",
    "print(\"Recall: \", metrics.recall_score(y_test, y_pred))           #prints the recall of the KNN model\n",
    "\n",
    "print(confusion_matrix(y_test, y_pred))                 #print the confusion matrix\n",
    "print(classification_report(y_test, y_pred))            #print the classification report"
   ]
  },
  {
   "cell_type": "code",
   "execution_count": 7,
   "metadata": {},
   "outputs": [
    {
     "name": "stdout",
     "output_type": "stream",
     "text": [
      "           Name  Any Name Present  All Names Present  No Sender  Spam\n",
      "0      inmail.1                 0                  0          0     1\n",
      "1     inmail.10                 0                  0          0     0\n",
      "2    inmail.100                 0                  0          0     1\n",
      "3   inmail.1000                 1                  0          0     0\n",
      "4  inmail.10000                 0                  0          0     1\n"
     ]
    }
   ],
   "source": [
    "import pandas\n",
    "import seaborn as sns\n",
    "import numpy as np\n",
    "import matplotlib.pyplot as plt\n",
    "from sklearn import svm, datasets\n",
    "\n",
    "iris = pandas.read_csv(r'C:/Users/Aidan/OneDrive/Desktop/Hons/honsTestNoTLD.csv')\n",
    "print(iris.head())"
   ]
  },
  {
   "cell_type": "code",
   "execution_count": 9,
   "metadata": {},
   "outputs": [
    {
     "data": {
      "text/plain": [
       "<seaborn.axisgrid.PairGrid at 0x1dada473c40>"
      ]
     },
     "execution_count": 9,
     "metadata": {},
     "output_type": "execute_result"
    },
    {
     "data": {
      "image/png": "[encoded data removed]",
      "text/plain": [
       "<Figure size 582.375x540 with 12 Axes>"
      ]
     },
     "metadata": {
      "needs_background": "light"
     },
     "output_type": "display_data"
    }
   ],
   "source": [
    "y = iris.Spam\n",
    "X = iris.drop('Spam',axis=1)\n",
    "sns.pairplot(iris, hue=\"Spam\",palette=\"bright\")"
   ]
  },
  {
   "cell_type": "code",
   "execution_count": 1,
   "metadata": {},
   "outputs": [
    {
     "name": "stdout",
     "output_type": "stream",
     "text": [
      "['This', 'will', 'be', 'converted', 'into', 'a', 'list']\n"
     ]
    }
   ],
   "source": [
    "testText = \"This will be converted into a list\"\n",
    "\n",
    "x = testText.split()\n",
    "\n",
    "print(x)"
   ]
  },
  {
   "cell_type": "code",
   "execution_count": null,
   "metadata": {},
   "outputs": [],
   "source": []
  }
 ],
 "metadata": {
  "kernelspec": {
   "display_name": "Python 3",
   "language": "python",
   "name": "python3"
  },
  "language_info": {
   "codemirror_mode": {
    "name": "ipython",
    "version": 3
   },
   "file_extension": ".py",
   "mimetype": "text/x-python",
   "name": "python",
   "nbconvert_exporter": "python",
   "pygments_lexer": "ipython3",
   "version": "3.8.5"
  }
 },
 "nbformat": 4,
 "nbformat_minor": 4
}
